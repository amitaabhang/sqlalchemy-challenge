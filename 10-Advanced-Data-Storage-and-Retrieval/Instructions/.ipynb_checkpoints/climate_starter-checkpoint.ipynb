{
 "cells": [
  {
   "cell_type": "code",
   "execution_count": 1,
   "metadata": {},
   "outputs": [],
   "source": [
    "%matplotlib inline\n",
    "from matplotlib import style\n",
    "style.use('fivethirtyeight')\n",
    "import matplotlib.pyplot as plt"
   ]
  },
  {
   "cell_type": "code",
   "execution_count": 2,
   "metadata": {},
   "outputs": [],
   "source": [
    "import numpy as np\n",
    "import pandas as pd\n",
    "import datetime as dt"
   ]
  },
  {
   "cell_type": "markdown",
   "metadata": {},
   "source": [
    "# Reflect Tables into SQLAlchemy ORM"
   ]
  },
  {
   "cell_type": "code",
   "execution_count": 3,
   "metadata": {},
   "outputs": [],
   "source": [
    "# Python SQL toolkit and Object Relational Mapper\n",
    "import sqlalchemy\n",
    "from sqlalchemy.ext.automap import automap_base\n",
    "from sqlalchemy.orm import Session\n",
    "from sqlalchemy import create_engine, func"
   ]
  },
  {
   "cell_type": "code",
   "execution_count": 4,
   "metadata": {},
   "outputs": [],
   "source": [
    "# create engine to hawaii.sqlite\n",
    "engine = create_engine(\"sqlite:///Resources/hawaii.sqlite\", echo=False)"
   ]
  },
  {
   "cell_type": "code",
   "execution_count": 5,
   "metadata": {},
   "outputs": [],
   "source": [
    "# reflect an existing database into a new model\n",
    "\n",
    "# reflect the tables\n",
    "# Reflect Database into ORM classes\n",
    "Base = automap_base()\n",
    "Base.prepare(engine, reflect=True)\n"
   ]
  },
  {
   "cell_type": "code",
   "execution_count": 6,
   "metadata": {},
   "outputs": [
    {
     "data": {
      "text/plain": [
       "['measurement', 'station']"
      ]
     },
     "execution_count": 6,
     "metadata": {},
     "output_type": "execute_result"
    }
   ],
   "source": [
    "# View all of the classes that automap found\n",
    "Base.classes.keys()"
   ]
  },
  {
   "cell_type": "code",
   "execution_count": 7,
   "metadata": {},
   "outputs": [],
   "source": [
    "# Save references to each table\n",
    "Station = Base.classes.station\n",
    "Measurement = Base.classes.measurement"
   ]
  },
  {
   "cell_type": "code",
   "execution_count": 8,
   "metadata": {},
   "outputs": [],
   "source": [
    "# Create our session (link) from Python to the DB\n",
    "session = Session(engine)"
   ]
  },
  {
   "cell_type": "code",
   "execution_count": 9,
   "metadata": {},
   "outputs": [
    {
     "name": "stdout",
     "output_type": "stream",
     "text": [
      "---------------------\n",
      "ID: 1\n",
      "Station: USC00519397\n",
      "Name: WAIKIKI 717.2, HI US\n",
      "Latitude: 21.2716\n",
      "Longitude: -157.8168\n",
      "Elevation: 3.0\n",
      "---------------------\n",
      "ID: 2\n",
      "Station: USC00513117\n",
      "Name: KANEOHE 838.1, HI US\n",
      "Latitude: 21.4234\n",
      "Longitude: -157.8015\n",
      "Elevation: 14.6\n",
      "---------------------\n",
      "ID: 3\n",
      "Station: USC00514830\n",
      "Name: KUALOA RANCH HEADQUARTERS 886.9, HI US\n",
      "Latitude: 21.5213\n",
      "Longitude: -157.8374\n",
      "Elevation: 7.0\n",
      "---------------------\n",
      "ID: 4\n",
      "Station: USC00517948\n",
      "Name: PEARL CITY, HI US\n",
      "Latitude: 21.3934\n",
      "Longitude: -157.9751\n",
      "Elevation: 11.9\n",
      "---------------------\n",
      "ID: 5\n",
      "Station: USC00518838\n",
      "Name: UPPER WAHIAWA 874.3, HI US\n",
      "Latitude: 21.4992\n",
      "Longitude: -158.0111\n",
      "Elevation: 306.6\n"
     ]
    }
   ],
   "source": [
    "results = session.query(Station).limit(5).all()\n",
    "for st in results:\n",
    "    print('---------------------')\n",
    "    print(f\"ID: {st.id}\")\n",
    "    print(f\"Station: {st.station}\")\n",
    "    print(f\"Name: {st.name}\")\n",
    "    print(f\"Latitude: {st.latitude}\")\n",
    "    print(f\"Longitude: {st.longitude}\")\n",
    "    print(f\"Elevation: {st.elevation}\")"
   ]
  },
  {
   "cell_type": "code",
   "execution_count": 10,
   "metadata": {},
   "outputs": [
    {
     "name": "stdout",
     "output_type": "stream",
     "text": [
      "---------------------\n",
      "ID: 1\n",
      "Station: USC00519397\n",
      "Date: 2010-01-01\n",
      "PRCP: 0.08\n",
      "TOBS: 65.0\n",
      "---------------------\n",
      "ID: 2\n",
      "Station: USC00519397\n",
      "Date: 2010-01-02\n",
      "PRCP: 0.0\n",
      "TOBS: 63.0\n",
      "---------------------\n",
      "ID: 3\n",
      "Station: USC00519397\n",
      "Date: 2010-01-03\n",
      "PRCP: 0.0\n",
      "TOBS: 74.0\n",
      "---------------------\n",
      "ID: 4\n",
      "Station: USC00519397\n",
      "Date: 2010-01-04\n",
      "PRCP: 0.0\n",
      "TOBS: 76.0\n",
      "---------------------\n",
      "ID: 5\n",
      "Station: USC00519397\n",
      "Date: 2010-01-06\n",
      "PRCP: None\n",
      "TOBS: 73.0\n"
     ]
    }
   ],
   "source": [
    "m_results = session.query(Measurement).limit(5).all()\n",
    "for st in m_results:\n",
    "    print('---------------------')\n",
    "    print(f\"ID: {st.id}\")\n",
    "    print(f\"Station: {st.station}\")\n",
    "    print(f\"Date: {st.date}\")\n",
    "    print(f\"PRCP: {st.prcp}\")\n",
    "    print(f\"TOBS: {st.tobs}\")"
   ]
  },
  {
   "cell_type": "markdown",
   "metadata": {},
   "source": [
    "# Exploratory Precipitation Analysis"
   ]
  },
  {
   "cell_type": "code",
   "execution_count": 11,
   "metadata": {},
   "outputs": [
    {
     "name": "stdout",
     "output_type": "stream",
     "text": [
      "2017-08-23 00:00:00\n"
     ]
    }
   ],
   "source": [
    "# Find the most recent date in the data set.\n",
    "results =session.query(Measurement.date).order_by(Measurement.date.desc()).first()[0]\n",
    "\n",
    "recent_date = dt.datetime.strptime(results , '%Y-%m-%d')\n",
    "print(recent_date)"
   ]
  },
  {
   "cell_type": "code",
   "execution_count": 12,
   "metadata": {},
   "outputs": [
    {
     "name": "stdout",
     "output_type": "stream",
     "text": [
      "2016-08-23 00:00:00\n"
     ]
    },
    {
     "data": {
      "image/png": "[encoded data removed]",
      "text/plain": [
       "<Figure size 432x288 with 1 Axes>"
      ]
     },
     "metadata": {},
     "output_type": "display_data"
    }
   ],
   "source": [
    "# Design a query to retrieve the last 12 months of precipitation data and plot the results. \n",
    "# Starting from the most recent data point in the database. \n",
    "\n",
    "# Calculate the date one year from the last date in data set.\n",
    "\n",
    "one_year = dt.timedelta(days=365)\n",
    "new_date = recent_date - one_year\n",
    "print(new_date)\n",
    "\n",
    "# Perform a query to retrieve the data and precipitation scores\n",
    "recentyear_data =session.query(Measurement.date, Measurement.prcp).filter(Measurement.date >= new_date).all()\n",
    "# Save the query results as a Pandas DataFrame and set the index to the date column\n",
    "\n",
    "recentyear_df = pd.DataFrame(recentyear_data)\n",
    "#recentyear_df.head()\n",
    "\n",
    "# Set index to date\n",
    "recentyear_df.set_index('date', inplace=True)\n",
    "\n",
    "# Sort the dataframe by date\n",
    "recentyear_df.sort_values(by=['date'], inplace= True)\n",
    "#recentyear_df.head()\n",
    "\n",
    "recentyear_df.plot()\n",
    "plt.legend(loc='upper right')\n",
    "plt.xlabel('Date')\n",
    "plt.ylabel('Inches')\n",
    "plt.title('Precipitation Count')\n",
    "plt.xticks(rotation=70)\n",
    "plt.show()\n"
   ]
  },
  {
   "cell_type": "code",
   "execution_count": 13,
   "metadata": {},
   "outputs": [
    {
     "data": {
      "text/html": [
       "<div>\n",
       "<style scoped>\n",
       "    .dataframe tbody tr th:only-of-type {\n",
       "        vertical-align: middle;\n",
       "    }\n",
       "\n",
       "    .dataframe tbody tr th {\n",
       "        vertical-align: top;\n",
       "    }\n",
       "\n",
       "    .dataframe thead th {\n",
       "        text-align: right;\n",
       "    }\n",
       "</style>\n",
       "<table border=\"1\" class=\"dataframe\">\n",
       "  <thead>\n",
       "    <tr style=\"text-align: right;\">\n",
       "      <th></th>\n",
       "      <th>prcp</th>\n",
       "    </tr>\n",
       "  </thead>\n",
       "  <tbody>\n",
       "    <tr>\n",
       "      <th>count</th>\n",
       "      <td>2015.000000</td>\n",
       "    </tr>\n",
       "    <tr>\n",
       "      <th>mean</th>\n",
       "      <td>0.176462</td>\n",
       "    </tr>\n",
       "    <tr>\n",
       "      <th>std</th>\n",
       "      <td>0.460288</td>\n",
       "    </tr>\n",
       "    <tr>\n",
       "      <th>min</th>\n",
       "      <td>0.000000</td>\n",
       "    </tr>\n",
       "    <tr>\n",
       "      <th>25%</th>\n",
       "      <td>0.000000</td>\n",
       "    </tr>\n",
       "    <tr>\n",
       "      <th>50%</th>\n",
       "      <td>0.020000</td>\n",
       "    </tr>\n",
       "    <tr>\n",
       "      <th>75%</th>\n",
       "      <td>0.130000</td>\n",
       "    </tr>\n",
       "    <tr>\n",
       "      <th>max</th>\n",
       "      <td>6.700000</td>\n",
       "    </tr>\n",
       "  </tbody>\n",
       "</table>\n",
       "</div>"
      ],
      "text/plain": [
       "              prcp\n",
       "count  2015.000000\n",
       "mean      0.176462\n",
       "std       0.460288\n",
       "min       0.000000\n",
       "25%       0.000000\n",
       "50%       0.020000\n",
       "75%       0.130000\n",
       "max       6.700000"
      ]
     },
     "execution_count": 13,
     "metadata": {},
     "output_type": "execute_result"
    }
   ],
   "source": [
    "# Use Pandas to calcualte the summary statistics for the precipitation data\n",
    "recentyear_df.describe()"
   ]
  },
  {
   "cell_type": "markdown",
   "metadata": {},
   "source": [
    "# Exploratory Station Analysis"
   ]
  },
  {
   "cell_type": "code",
   "execution_count": 14,
   "metadata": {},
   "outputs": [
    {
     "name": "stdout",
     "output_type": "stream",
     "text": [
      "9\n"
     ]
    }
   ],
   "source": [
    "# Design a query to calculate the total number stations in the dataset\n",
    "station_count = session.query(Station).distinct(Station.station).count()\n",
    "print(station_count)"
   ]
  },
  {
   "cell_type": "code",
   "execution_count": 15,
   "metadata": {},
   "outputs": [
    {
     "data": {
      "text/plain": [
       "[('USC00519281', 2772),\n",
       " ('USC00519397', 2724),\n",
       " ('USC00513117', 2709),\n",
       " ('USC00519523', 2669),\n",
       " ('USC00516128', 2612),\n",
       " ('USC00514830', 2202),\n",
       " ('USC00511918', 1979),\n",
       " ('USC00517948', 1372),\n",
       " ('USC00518838', 511)]"
      ]
     },
     "execution_count": 15,
     "metadata": {},
     "output_type": "execute_result"
    }
   ],
   "source": [
    "# Design a query to find the most active stations (i.e. what stations have the most rows?)\n",
    "# List the stations and the counts in descending order.\n",
    "results = session.query(Measurement.station, func.count(Measurement.station)).group_by(Measurement.station)\\\n",
    ".order_by(func.count(Measurement.station).desc()).all()\n",
    "results"
   ]
  },
  {
   "cell_type": "code",
   "execution_count": 16,
   "metadata": {},
   "outputs": [],
   "source": [
    "# most active station id\n",
    "active_station_id = results[0][0]"
   ]
  },
  {
   "cell_type": "code",
   "execution_count": 17,
   "metadata": {},
   "outputs": [
    {
     "name": "stdout",
     "output_type": "stream",
     "text": [
      "Temp details for most active station: USC00519281\n",
      "Min Temp: 54.0\n",
      "Max Temp: 85.0\n",
      "Avg Temp: 71.66\n"
     ]
    }
   ],
   "source": [
    "# Using the most active station id from the previous query, calculate the lowest, highest, and average temperature.\n",
    "\n",
    "statistics = session.query(func.min(Measurement.tobs), func.max(Measurement.tobs), func.avg(Measurement.tobs), func.count(Measurement.tobs)).filter(Measurement.station == active_station_id)\n",
    "print(f\"Temp details for most active station: {active_station_id}\")\n",
    "print(f\"Min Temp: {statistics[0][0]}\")\n",
    "print(f\"Max Temp: {statistics[0][1]}\")\n",
    "print(f\"Avg Temp: {round(statistics[0][2],2)}\")\n"
   ]
  },
  {
   "cell_type": "code",
   "execution_count": 18,
   "metadata": {},
   "outputs": [
    {
     "data": {
      "image/png": "[encoded data removed]",
      "text/plain": [
       "<Figure size 432x288 with 1 Axes>"
      ]
     },
     "metadata": {},
     "output_type": "display_data"
    }
   ],
   "source": [
    "# Using the most active station id\n",
    "# Query the last 12 months of temperature observation data for this station and plot the results as a histogram\n",
    "recentyear_temp_data =session.query( Measurement.tobs).filter(Measurement.date >= new_date).filter(Measurement.station == active_station_id).all()\n",
    "# Save the query results as a Pandas DataFrame and set the index to the date column\n",
    "\n",
    "recentyear_temp_df = pd.DataFrame(recentyear_temp_data)\n",
    "\n",
    "\n",
    "# Sort the dataframe by date\n",
    "recentyear_temp_df.hist(bins=12)\n",
    "plt.xlabel('Temprature')\n",
    "plt.ylabel('Frequency')\n",
    "plt.title('')\n",
    "plt.show()\n"
   ]
  },
  {
   "cell_type": "markdown",
   "metadata": {},
   "source": [
    "# Close session"
   ]
  },
  {
   "cell_type": "code",
   "execution_count": 19,
   "metadata": {},
   "outputs": [],
   "source": [
    "# Close Session\n",
    "session.close()"
   ]
  },
  {
   "cell_type": "code",
   "execution_count": null,
   "metadata": {},
   "outputs": [],
   "source": []
  }
 ],
 "metadata": {
  "anaconda-cloud": {},
  "kernel_info": {
   "name": "python3"
  },
  "kernelspec": {
   "display_name": "Python 3",
   "language": "python",
   "name": "python3"
  },
  "language_info": {
   "codemirror_mode": {
    "name": "ipython",
    "version": 3
   },
   "file_extension": ".py",
   "mimetype": "text/x-python",
   "name": "python",
   "nbconvert_exporter": "python",
   "pygments_lexer": "ipython3",
   "version": "3.8.5"
  },
  "nteract": {
   "version": "0.12.3"
  },
  "varInspector": {
   "cols": {
    "lenName": 16,
    "lenType": 16,
    "lenVar": 40
   },
   "kernels_config": {
    "python": {
     "delete_cmd_postfix": "",
     "delete_cmd_prefix": "del ",
     "library": "var_list.py",
     "varRefreshCmd": "print(var_dic_list())"
    },
    "r": {
     "delete_cmd_postfix": ") ",
     "delete_cmd_prefix": "rm(",
     "library": "var_list.r",
     "varRefreshCmd": "cat(var_dic_list()) "
    }
   },
   "types_to_exclude": [
    "module",
    "function",
    "builtin_function_or_method",
    "instance",
    "_Feature"
   ],
   "window_display": false
  }
 },
 "nbformat": 4,
 "nbformat_minor": 2
}
